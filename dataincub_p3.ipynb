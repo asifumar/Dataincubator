{
 "cells": [
  {
   "cell_type": "code",
   "execution_count": 80,
   "metadata": {},
   "outputs": [],
   "source": [
    "import pandas as pd\n",
    "import matplotlib.pyplot as plt\n",
    "import seaborn as sns\n",
    "\n",
    "df = pd.read_csv('/Users/umarsharif/Downloads/ARCOS_OPIOIDS_WashPo-master/arcos_500_washpo.tsv', delimiter='\\t')"
   ]
  },
  {
   "cell_type": "code",
   "execution_count": 45,
   "metadata": {
    "scrolled": true
   },
   "outputs": [
    {
     "data": {
      "text/plain": [
       "REPORTER_DEA_NO           object\n",
       "REPORTER_BUS_ACT          object\n",
       "REPORTER_NAME             object\n",
       "REPORTER_ADDL_CO_INFO     object\n",
       "REPORTER_ADDRESS1         object\n",
       "REPORTER_ADDRESS2        float64\n",
       "REPORTER_CITY             object\n",
       "REPORTER_STATE            object\n",
       "REPORTER_ZIP               int64\n",
       "REPORTER_COUNTY           object\n",
       "BUYER_DEA_NO              object\n",
       "BUYER_BUS_ACT             object\n",
       "BUYER_NAME                object\n",
       "BUYER_ADDL_CO_INFO        object\n",
       "BUYER_ADDRESS1            object\n",
       "BUYER_ADDRESS2            object\n",
       "BUYER_CITY                object\n",
       "BUYER_STATE               object\n",
       "BUYER_ZIP                  int64\n",
       "BUYER_COUNTY              object\n",
       "TRANSACTION_CODE          object\n",
       "DRUG_CODE                  int64\n",
       "NDC_NO                     int64\n",
       "DRUG_NAME                 object\n",
       "QUANTITY                   int64\n",
       "UNIT                     float64\n",
       "ACTION_INDICATOR         float64\n",
       "ORDER_FORM_NO            float64\n",
       "CORRECTION_NO            float64\n",
       "STRENGTH                 float64\n",
       "TRANSACTION_DATE           int64\n",
       "CALC_BASE_WT_IN_GM       float64\n",
       "DOSAGE_UNIT              float64\n",
       "TRANSACTION_ID             int64\n",
       "Product_Name              object\n",
       "Ingredient_Name           object\n",
       "Measure                   object\n",
       "MME_Conversion_Factor      int64\n",
       "Combined_Labeler_Name     object\n",
       "Revised_Company_Name      object\n",
       "Reporter_family           object\n",
       "dos_str                  float64\n",
       "dtype: object"
      ]
     },
     "execution_count": 45,
     "metadata": {},
     "output_type": "execute_result"
    }
   ],
   "source": [
    "df.dtypes"
   ]
  },
  {
   "cell_type": "code",
   "execution_count": 72,
   "metadata": {},
   "outputs": [],
   "source": [
    "df['volume'] = df.QUANTITY*df.DOSAGE_UNIT"
   ]
  },
  {
   "cell_type": "code",
   "execution_count": 73,
   "metadata": {},
   "outputs": [
    {
     "data": {
      "text/plain": [
       "BUYER_STATE\n",
       "AZ     342955.0\n",
       "CA       4000.0\n",
       "CO       1500.0\n",
       "MA        100.0\n",
       "NY    1117000.0\n",
       "Name: volume, dtype: float64"
      ]
     },
     "execution_count": 73,
     "metadata": {},
     "output_type": "execute_result"
    }
   ],
   "source": [
    "df1 = df.groupby('BUYER_STATE')['volume'].sum()\n",
    "df1.head()"
   ]
  },
  {
   "cell_type": "code",
   "execution_count": 74,
   "metadata": {},
   "outputs": [
    {
     "data": {
      "text/plain": [
       "<matplotlib.axes._subplots.AxesSubplot at 0x123ea7790>"
      ]
     },
     "execution_count": 74,
     "metadata": {},
     "output_type": "execute_result"
    },
    {
     "data": {
      "image/png": "[encoded data removed]",
      "text/plain": [
       "<Figure size 432x288 with 1 Axes>"
      ]
     },
     "metadata": {
      "needs_background": "light"
     },
     "output_type": "display_data"
    }
   ],
   "source": [
    "df1.plot(kind = 'bar')"
   ]
  },
  {
   "cell_type": "code",
   "execution_count": 78,
   "metadata": {},
   "outputs": [
    {
     "data": {
      "text/plain": [
       "Revised_Company_Name\n",
       "Allergan, Inc.                  1202900.0\n",
       "Amneal Pharmaceuticals, Inc.       1400.0\n",
       "Apotheca Inc.                    347955.0\n",
       "Endo Pharmaceuticals, Inc.         2900.0\n",
       "Mallinckrodt                        100.0\n",
       "Name: volume, dtype: float64"
      ]
     },
     "execution_count": 78,
     "metadata": {},
     "output_type": "execute_result"
    }
   ],
   "source": [
    "df2 = df.groupby('Revised_Company_Name')['volume'].sum()\n",
    "df2.head()"
   ]
  },
  {
   "cell_type": "code",
   "execution_count": 79,
   "metadata": {},
   "outputs": [
    {
     "data": {
      "text/plain": [
       "<matplotlib.axes._subplots.AxesSubplot at 0x123f66150>"
      ]
     },
     "execution_count": 79,
     "metadata": {},
     "output_type": "execute_result"
    },
    {
     "data": {
      "image/png": "[encoded data removed]",
      "text/plain": [
       "<Figure size 432x288 with 1 Axes>"
      ]
     },
     "metadata": {
      "needs_background": "light"
     },
     "output_type": "display_data"
    }
   ],
   "source": [
    "df2.plot(kind = 'bar')"
   ]
  },
  {
   "cell_type": "code",
   "execution_count": null,
   "metadata": {},
   "outputs": [],
   "source": []
  }
 ],
 "metadata": {
  "kernelspec": {
   "display_name": "Python 3",
   "language": "python",
   "name": "python3"
  },
  "language_info": {
   "codemirror_mode": {
    "name": "ipython",
    "version": 3
   },
   "file_extension": ".py",
   "mimetype": "text/x-python",
   "name": "python",
   "nbconvert_exporter": "python",
   "pygments_lexer": "ipython3",
   "version": "3.7.4"
  }
 },
 "nbformat": 4,
 "nbformat_minor": 2
}
